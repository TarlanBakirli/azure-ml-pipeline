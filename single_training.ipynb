{
  "cells": [
    {
      "cell_type": "markdown",
      "metadata": {
        "nteract": {
          "transient": {
            "deleting": false
          }
        }
      },
      "source": [
        "### Configure and Authenticate"
      ]
    },
    {
      "cell_type": "code",
      "execution_count": null,
      "metadata": {
        "gather": {
          "logged": 1739360297781
        }
      },
      "outputs": [],
      "source": [
        "from azure.ai.ml import MLClient\n",
        "from azure.identity import DefaultAzureCredential\n",
        "\n",
        "# authenticate\n",
        "credential = DefaultAzureCredential()\n",
        "\n",
        "SUBSCRIPTION = \"<SUBSCRIPTION_ID>\"\n",
        "RESOURCE_GROUP = \"<RESOURCE_GROUP>\"\n",
        "WS_NAME = \"<WORKSPACE>\"\n",
        "# Get a handle to the workspace\n",
        "ml_client = MLClient(\n",
        "    credential=credential,\n",
        "    subscription_id=SUBSCRIPTION,\n",
        "    resource_group_name=RESOURCE_GROUP,\n",
        "    workspace_name=WS_NAME,\n",
        ")"
      ]
    },
    {
      "cell_type": "code",
      "execution_count": null,
      "metadata": {
        "gather": {
          "logged": 1739360300127
        },
        "jupyter": {
          "outputs_hidden": true
        }
      },
      "outputs": [],
      "source": [
        "# Verify that the handle works correctly.\n",
        "ws = ml_client.workspaces.get(WS_NAME)\n",
        "print(ws.location, \":\", ws.resource_group)"
      ]
    },
    {
      "cell_type": "markdown",
      "metadata": {
        "nteract": {
          "transient": {
            "deleting": false
          }
        }
      },
      "source": [
        "### Create Custom Environment"
      ]
    },
    {
      "cell_type": "markdown",
      "metadata": {
        "nteract": {
          "transient": {
            "deleting": false
          }
        }
      },
      "source": [
        "Environment creation is executed only once or whenever update is required within environment. Uncomment if required."
      ]
    },
    {
      "cell_type": "code",
      "execution_count": null,
      "metadata": {
        "gather": {
          "logged": 1739316997392
        },
        "jupyter": {
          "outputs_hidden": true
        }
      },
      "outputs": [],
      "source": [
        "from azure.ai.ml.entities import Environment, BuildContext\n",
        "\n",
        "env_docker_context = Environment(\n",
        "    build=BuildContext(path=\"src/docker-contexts/stock-predictor\"),\n",
        "    name=\"stock_predictor_env\",\n",
        "    description=\"Custom Stock Predictor environment\",\n",
        ")\n",
        "ml_client.environments.create_or_update(env_docker_context)"
      ]
    },
    {
      "cell_type": "code",
      "execution_count": null,
      "metadata": {
        "gather": {
          "logged": 1739317001323
        }
      },
      "outputs": [],
      "source": [
        "# Check environment (can also be viewed in the custom environments section)\n",
        "env = ml_client.environments.get(name=\"stock_predictor_env\", label=\"latest\")\n",
        "print(env.version)"
      ]
    },
    {
      "cell_type": "code",
      "execution_count": null,
      "metadata": {},
      "outputs": [],
      "source": [
        "# Get latest environment\n",
        "environment_name = \"stock_predictor_env\"\n",
        "env = ml_client.environments.get(name=environment_name, label=\"latest\")\n",
        "environment = environment_name + \":\" + env.version"
      ]
    },
    {
      "cell_type": "markdown",
      "metadata": {
        "nteract": {
          "transient": {
            "deleting": false
          }
        }
      },
      "source": [
        "### Prepare and submit training job"
      ]
    },
    {
      "cell_type": "code",
      "execution_count": null,
      "metadata": {
        "gather": {
          "logged": 1739374733575
        }
      },
      "outputs": [],
      "source": [
        "from azure.ai.ml import command\n",
        "from azure.ai.ml import Input\n",
        "import datetime\n",
        "\n",
        "epoch = datetime.datetime.now().timestamp()\n",
        "job_name = \"train_stock_predictor_\" + str(int(epoch))\n",
        "\n",
        "training_job = command(\n",
        "    name=job_name,\n",
        "    inputs=dict(\n",
        "        previous_time_window=10,\n",
        "        next_time_window=5,\n",
        "        num_epochs=1,\n",
        "        learning_rate=0.01,\n",
        "        output_dir=\"./outputs\",\n",
        "        mode=\"train\",\n",
        "    ),\n",
        "    code=\"./src/\",\n",
        "    command=\"python train.py --previous_time_window ${{inputs.previous_time_window}} --next_time_window ${{inputs.next_time_window}} --num_epochs ${{inputs.num_epochs}} --learning_rate ${{inputs.learning_rate}} --output_dir ${{inputs.output_dir}} --mode ${{inputs.mode}}\",\n",
        "    environment=environment,\n",
        "    display_name=\"stock_predictor_training\",\n",
        ")"
      ]
    },
    {
      "cell_type": "code",
      "execution_count": null,
      "metadata": {
        "gather": {
          "logged": 1739317020281
        }
      },
      "outputs": [],
      "source": [
        "ml_client.create_or_update(training_job)"
      ]
    },
    {
      "cell_type": "code",
      "execution_count": null,
      "metadata": {
        "gather": {
          "logged": 1739302522844
        },
        "jupyter": {
          "outputs_hidden": true
        }
      },
      "outputs": [],
      "source": [
        "# Get jobs\n",
        "jobs = ml_client.jobs.list()\n",
        "print(list(jobs)[0])"
      ]
    },
    {
      "cell_type": "markdown",
      "metadata": {
        "nteract": {
          "transient": {
            "deleting": false
          }
        }
      },
      "source": [
        "### Register saved torch model"
      ]
    },
    {
      "cell_type": "code",
      "execution_count": null,
      "metadata": {
        "gather": {
          "logged": 1739302543206
        },
        "jupyter": {
          "outputs_hidden": true
        }
      },
      "outputs": [],
      "source": [
        "from azure.ai.ml.entities import Model\n",
        "from azure.ai.ml.constants import AssetTypes\n",
        "\n",
        "registered_model_name = \"stock_predictor\"\n",
        "\n",
        "cloud_model = Model(\n",
        "    path=\"azureml://jobs/{}/outputs/artifacts/paths/outputs/\".format(job_name),\n",
        "    name=registered_model_name,\n",
        "    type=AssetTypes.CUSTOM_MODEL,\n",
        "    description=\"Stock Predictor Model\",\n",
        ")\n",
        "ml_client.models.create_or_update(cloud_model)"
      ]
    }
  ],
  "metadata": {
    "kernel_info": {
      "name": "python310-sdkv2"
    },
    "kernelspec": {
      "display_name": "Python 3.10 - SDK v2",
      "language": "python",
      "name": "python310-sdkv2"
    },
    "language_info": {
      "codemirror_mode": {
        "name": "ipython",
        "version": 3
      },
      "file_extension": ".py",
      "mimetype": "text/x-python",
      "name": "python",
      "nbconvert_exporter": "python",
      "pygments_lexer": "ipython3",
      "version": "3.10.14"
    },
    "microsoft": {
      "host": {
        "AzureML": {
          "notebookHasBeenCompleted": true
        }
      },
      "ms_spell_check": {
        "ms_spell_check_language": "en"
      }
    },
    "nteract": {
      "version": "nteract-front-end@1.0.0"
    }
  },
  "nbformat": 4,
  "nbformat_minor": 2
}
